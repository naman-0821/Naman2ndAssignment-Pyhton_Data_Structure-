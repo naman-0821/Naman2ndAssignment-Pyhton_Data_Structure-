{
 "cells": [
  {
   "cell_type": "code",
   "execution_count": 1,
   "id": "1a921a67-9fd9-41f8-9514-f7359932779c",
   "metadata": {},
   "outputs": [],
   "source": [
    "#1. Discuss string slicing and provide examples."
   ]
  },
  {
   "cell_type": "markdown",
   "id": "8995288c-6b49-4d86-87aa-4eb5a6b6b9bd",
   "metadata": {},
   "source": [
    "String slicing in Python is a powerful technique to extract specific portions of a string. You can access characters within a string using their indices, which start from 0.\n",
    "\n",
    "**Basic Syntax:**\n",
    "\n",
    "```python\n",
    "string[start:end:step]\n",
    "```\n",
    "\n",
    "* **`start`:** Index of the first character to include (inclusive).\n",
    "* **`end`:** Index of the character after the last one to include (exclusive).\n",
    "* **`step`:** Interval between characters to be included.\n",
    "\n",
    "**Examples:**\n",
    "\n",
    "```python\n",
    "text = \"Hello, World!\"\n",
    "\n",
    "# Extract \"Hello\"\n",
    "print(text[:5])\n",
    "\n",
    "# Extract \"World!\"\n",
    "print(text[-5:])\n",
    "\n",
    "# Reverse the string\n",
    "print(text[::-1])\n",
    "\n",
    "# Extract every other character\n",
    "print(text[::2])\n",
    "```\n",
    "\n",
    "String slicing is essential for various text processing tasks, including data cleaning, text analysis, and data extraction.\n"
   ]
  },
  {
   "cell_type": "code",
   "execution_count": 2,
   "id": "d6a5779e-9c30-4507-9228-93013bdb2293",
   "metadata": {},
   "outputs": [],
   "source": [
    "#2.Explain the key features of lists in Python."
   ]
  },
  {
   "cell_type": "markdown",
   "id": "73bd46eb-e04b-4b52-b5f5-bc2e5f9ddf24",
   "metadata": {},
   "source": [
    "Python lists are versatile data structures that allow you to store and manipulate collections of items. Here are their key features:\n",
    "\n",
    "Ordered: Elements in a list maintain a specific order, and their positions can be accessed using indices.\n",
    "Mutable: You can modify, add, or remove elements from a list after it's created.\n",
    "Heterogeneous: Lists can store elements of different data types, such as integers, strings, and even other lists.\n",
    "Dynamically Sized: Lists can grow or shrink as needed, automatically adjusting their size to accommodate new elements.\n",
    "Slicing: You can extract specific portions of a list using slicing, similar to string slicing.\n",
    "Various Operations: Python provides numerous built-in functions and methods to perform operations on lists, such as appending, inserting, removing, sorting, and searching."
   ]
  },
  {
   "cell_type": "code",
   "execution_count": 3,
   "id": "cde40120-eca1-47e3-8f4a-6531f7bdadd1",
   "metadata": {},
   "outputs": [],
   "source": [
    "#3. Describe how to access, modify, and delete elements in a list with examples."
   ]
  },
  {
   "cell_type": "markdown",
   "id": "7a7ed711-54ea-4cda-9424-0b0ed3862658",
   "metadata": {},
   "source": [
    "**Accessing, Modifying, and Deleting List Elements**\n",
    "\n",
    "* **Accessing:** Use square brackets with the index (position) to get elements.\n",
    "  ```python\n",
    "  my_list = [10, 20, 30]\n",
    "  print(my_list[0])  # Output: 10\n",
    "  ```\n",
    "* **Modifying:** Assign a new value to an element using its index.\n",
    "  ```python\n",
    "  my_list[1] = 40\n",
    "  print(my_list)  # Output: [10, 40, 30]\n",
    "  ```\n",
    "* **Deleting:**\n",
    "  - **`del`:** Remove an element by its index.\n",
    "    ```python\n",
    "    del my_list[2]\n",
    "    print(my_list)  # Output: [10, 40]\n",
    "    ```\n",
    "  - **`pop()`:** Remove and return an element at a specific index.\n",
    "    ```python\n",
    "    removed_item = my_list.pop(0)\n",
    "    print(my_list)  # Output: [40]\n",
    "    print(removed_item)  # Output: 10\n",
    "    ```\n",
    "  - **`remove()`:** Remove the first occurrence of a specific value.\n",
    "    ```python\n",
    "    my_list = [10, 20, 10, 30]\n",
    "    my_list.remove(10)\n",
    "    print(my_list)  # Output: [20, 10, 30]\n",
    "    ```\n"
   ]
  },
  {
   "cell_type": "code",
   "execution_count": 4,
   "id": "bb8e748f-f451-449c-a231-0cc431c5d385",
   "metadata": {},
   "outputs": [],
   "source": [
    "#4.Compare and contrast tuples and lists with examples"
   ]
  },
  {
   "cell_type": "markdown",
   "id": "59ed35be-fd1a-4f6e-b282-2d996e7477ce",
   "metadata": {},
   "source": [
    "**Tuples vs. Lists**\n",
    "\n",
    "**Tuples**\n",
    "* Immutable: Cannot be changed once created.\n",
    "* Defined using parentheses `()`.\n",
    "* Ideal for fixed data.\n",
    "\n",
    "**Example:**\n",
    "```python\n",
    "my_tuple = (1, 2, 3)\n",
    "```\n",
    "\n",
    "**Lists**\n",
    "* Mutable: Can be modified, added to, or removed from.\n",
    "* Defined using square brackets `[]`.\n",
    "* Suitable for dynamic data.\n",
    "\n",
    "**Example:**\n",
    "```python\n",
    "my_list = [10, 20, 30]\n",
    "```\n",
    "\n",
    "**Key Difference:**\n",
    "* **Mutability:** Tuples are immutable, while lists are mutable.\n"
   ]
  },
  {
   "cell_type": "code",
   "execution_count": 5,
   "id": "2618a0f0-6d4a-4d25-845e-f3d20edc0649",
   "metadata": {},
   "outputs": [],
   "source": [
    "#5. Describe the key features of sets and provide examples of their use."
   ]
  },
  {
   "cell_type": "markdown",
   "id": "2d8d1b93-583a-4d68-b6ed-ffb5898c1bb8",
   "metadata": {},
   "source": [
    "**Sets: A Quick Overview**\n",
    "\n",
    "Imagine a set as a collection of unique objects, like a group of friends where each person is distinct. In Python, sets are defined using curly braces `{}`.\n",
    "\n",
    "**Key Features:**\n",
    "\n",
    "1. **Unordered:** Unlike lists, elements in a set don't have a specific order.\n",
    "2. **Unique:** Each element can only appear once in a set.\n",
    "3. **Mutable:** You can add or remove elements from a set after it's created.\n",
    "\n",
    "**Example:**\n",
    "\n",
    "```python\n",
    "my_set = {1, 2, 3, 2, 1}\n",
    "print(my_set)  # Output: {1, 2, 3}\n",
    "```\n",
    "As you can see, the duplicate `1` and `2` were automatically removed. \n",
    "\n",
    "**Why Use Sets?**\n",
    "\n",
    "* **Removing Duplicates:** Easily eliminate duplicates from a list of items.\n",
    "* **Membership Testing:** Quickly check if an item is present in a set.\n",
    "* **Set Operations:** Perform mathematical operations like union, intersection, difference, and symmetric difference on sets.\n",
    "\n",
    "Sets are a powerful tool for data manipulation and analysis. By understanding their key features and use cases, you can effectively leverage them in your Python programs.\n"
   ]
  },
  {
   "cell_type": "code",
   "execution_count": 6,
   "id": "85107057-83b4-4929-8510-0d4c6fcdb6d4",
   "metadata": {},
   "outputs": [],
   "source": [
    "#6. Discuss the use cases of tuples and sets in Python programming."
   ]
  },
  {
   "cell_type": "markdown",
   "id": "e12042f1-589d-4387-9713-00c8cff3066b",
   "metadata": {},
   "source": [
    "**Tuples: The Immutable Group**\n",
    "\n",
    "Tuples are like a fixed group of items that you can't change once you've created them. They're useful for storing information that you don't want to be modified. For example, you could use a tuple to store a person's name, age, and city:\n",
    "\n",
    "```python\n",
    "person = ('Alice', 30, 'New York')\n",
    "```\n",
    "\n",
    "**Sets: The Unique Collection**\n",
    "\n",
    "Sets are like a club where each member is unique. They're useful for removing duplicates from a list or checking if an item is present in a collection. For example, you could use a set to find the unique numbers in a list:\n",
    "\n",
    "```python\n",
    "numbers = [1, 2, 3, 2, 1]\n",
    "unique_numbers = set(numbers)\n",
    "print(unique_numbers)  # Output: {1, 2, 3}\n",
    "```\n"
   ]
  },
  {
   "cell_type": "code",
   "execution_count": 7,
   "id": "586e283e-96cf-46d1-9bbf-958d32179b68",
   "metadata": {},
   "outputs": [],
   "source": [
    "#7. Describe how to add, modify, and delete items in a dictionary with examples."
   ]
  },
  {
   "cell_type": "markdown",
   "id": "ab6e57fe-d56d-43b3-a606-c6a5869414fd",
   "metadata": {},
   "source": [
    "**Adding Items to a Dictionary**\n",
    "\n",
    "To add a new key-value pair to a dictionary, simply assign a value to a new key:\n",
    "\n",
    "```python\n",
    "my_dict = {'name': 'Alice', 'age': 30}\n",
    "my_dict['city'] = 'New York'\n",
    "print(my_dict)  # Output: {'name': 'Alice', 'age': 30, 'city': 'New York'}\n",
    "```\n",
    "\n",
    "**Modifying Items in a Dictionary**\n",
    "\n",
    "To modify an existing value, assign a new value to the key:\n",
    "\n",
    "```python\n",
    "my_dict['age'] = 31\n",
    "print(my_dict)  # Output: {'name': 'Alice', 'age': 31, 'city': 'New York'}\n",
    "```\n",
    "\n",
    "**Deleting Items from a Dictionary**\n",
    "\n",
    "You can use the `del` keyword to delete a key-value pair:\n",
    "\n",
    "```python\n",
    "del my_dict['city']\n",
    "print(my_dict)  # Output: {'name': 'Alice', 'age': 31}\n",
    "```\n",
    "\n",
    "You can also use the `pop()` method to remove and return a value:\n",
    "\n",
    "```python\n",
    "age = my_dict.pop('age')\n",
    "print(my_dict)  # Output: {'name': 'Alice'}\n",
    "print(age)  # Output: 31\n",
    "```\n"
   ]
  },
  {
   "cell_type": "code",
   "execution_count": 8,
   "id": "c8bc0678-8da1-4297-b856-e2f2c4c4425b",
   "metadata": {},
   "outputs": [],
   "source": [
    "#8. Discuss the importance of dictionary keys being immutable and provide examples."
   ]
  },
  {
   "cell_type": "markdown",
   "id": "64c232af-af95-49a3-a811-9ef1b127eef8",
   "metadata": {},
   "source": [
    "**Why Dictionary Keys Must Be Immutable**\n",
    "\n",
    "In Python, dictionary keys must be immutable objects like strings, numbers, or tuples. This is crucial because dictionaries use a hashing mechanism to efficiently store and retrieve key-value pairs.\n",
    "\n",
    "**The Hashing Trick:**\n",
    "\n",
    "* **Hashing:** When you add a key-value pair to a dictionary, Python calculates a hash value for the key. This hash value helps in determining the key's location within the dictionary's internal structure.\n",
    "* **Immutability:** If keys were mutable, their hash values could change after they're added to the dictionary. This would break the dictionary's internal structure, making it impossible to find the correct value associated with the key.\n",
    "\n",
    "**Example:**\n",
    "\n",
    "Imagine a phonebook where names (keys) are associated with phone numbers (values). If names could change, the phonebook would become chaotic. A person named \"Alice\" might be listed under \"Alice\" at one point, and then under \"Alicia\" later, making it difficult to find their number.\n",
    "\n",
    "**In essence:**\n",
    "\n",
    "* **Efficiency:** Immutable keys ensure efficient lookup and retrieval of values.\n",
    "* **Consistency:** They prevent unexpected behavior and errors that could arise from changing key values.\n",
    "\n",
    "By enforcing immutability for dictionary keys, Python maintains the integrity and reliability of its dictionary data structure.\n"
   ]
  },
  {
   "cell_type": "code",
   "execution_count": 9,
   "id": "2aff4bc6-37f0-4112-8909-2a00ac740d5e",
   "metadata": {},
   "outputs": [],
   "source": [
    "                  #END OF ASSIGNMENT 2(PYTHON DATA STRUCTURE)"
   ]
  },
  {
   "cell_type": "code",
   "execution_count": null,
   "id": "6ffc531b-34fe-434d-ab40-daaa47595f27",
   "metadata": {},
   "outputs": [],
   "source": []
  }
 ],
 "metadata": {
  "kernelspec": {
   "display_name": "Python 3 (ipykernel)",
   "language": "python",
   "name": "python3"
  },
  "language_info": {
   "codemirror_mode": {
    "name": "ipython",
    "version": 3
   },
   "file_extension": ".py",
   "mimetype": "text/x-python",
   "name": "python",
   "nbconvert_exporter": "python",
   "pygments_lexer": "ipython3",
   "version": "3.12.7"
  }
 },
 "nbformat": 4,
 "nbformat_minor": 5
}
